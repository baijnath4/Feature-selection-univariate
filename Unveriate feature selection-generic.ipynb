{
 "cells": [
  {
   "cell_type": "code",
   "execution_count": 3,
   "id": "01ba686c",
   "metadata": {},
   "outputs": [],
   "source": [
    "# --------------------------------------------------------\n",
    "# Apply Feature Selection with F-Test on Linear Regression\n",
    "# Compare the result with selected features\n",
    "# --------------------------------------------------------\n",
    "\n",
    "# Import libraries\n",
    "import pandas as pd\n",
    "\n",
    "# Read the file\n",
    "f = pd.read_csv('Students2.csv')\n",
    "\n",
    "# Split the columns into Dependent (Y) and independent (X) features\n",
    "x = f.iloc[:,:-1]\n",
    "y = f.iloc[:, -1]\n",
    "\n",
    "# Perform Linear Regression using original dataset\n",
    "from sklearn.linear_model import LinearRegression\n",
    "\n",
    "lr = LinearRegression()\n",
    "\n",
    "# Split the data\n",
    "from sklearn.model_selection import train_test_split\n",
    "X_train, X_test, Y_train, Y_test = \\\n",
    "train_test_split(x, y, test_size = 0.4, random_state = 1234)\n",
    "\n",
    "lr.fit(X_train, Y_train)\n",
    "\n",
    "y_predict = lr.predict(X_test)\n",
    "\n",
    "# Calculate the RMSE error for the regression\n",
    "from sklearn.metrics import mean_squared_error\n",
    "import math\n",
    "\n",
    "rmse = math.sqrt(mean_squared_error(Y_test, y_predict))"
   ]
  },
  {
   "cell_type": "code",
   "execution_count": 4,
   "id": "7723d4a2",
   "metadata": {},
   "outputs": [
    {
     "data": {
      "text/plain": [
       "6.982206715357434"
      ]
     },
     "execution_count": 4,
     "metadata": {},
     "output_type": "execute_result"
    }
   ],
   "source": [
    "rmse #we are nor shure weather it is too high or too low"
   ]
  },
  {
   "cell_type": "code",
   "execution_count": 5,
   "id": "c62d4b9d",
   "metadata": {},
   "outputs": [],
   "source": [
    "from sklearn.feature_selection import f_regression as fr"
   ]
  },
  {
   "cell_type": "code",
   "execution_count": 6,
   "id": "b27b3476",
   "metadata": {},
   "outputs": [],
   "source": [
    "result=fr(x,y)"
   ]
  },
  {
   "cell_type": "code",
   "execution_count": 7,
   "id": "aff96bd3",
   "metadata": {},
   "outputs": [
    {
     "data": {
      "text/plain": [
       "(array([1.41905913e+02, 4.57019756e+00, 1.44882087e-03, 1.59990513e-01,\n",
       "        3.16606568e-03, 4.04208927e-01]),\n",
       " array([1.77038466e-12, 4.14028344e-02, 9.69907241e-01, 6.92200477e-01,\n",
       "        9.55528076e-01, 5.30086171e-01]))"
      ]
     },
     "execution_count": 7,
     "metadata": {},
     "output_type": "execute_result"
    }
   ],
   "source": [
    "result"
   ]
  },
  {
   "cell_type": "code",
   "execution_count": 8,
   "id": "1925086b",
   "metadata": {},
   "outputs": [],
   "source": [
    "f_score=result[0]\n",
    "p_value=result[1]"
   ]
  },
  {
   "cell_type": "code",
   "execution_count": 9,
   "id": "ffdd7307",
   "metadata": {},
   "outputs": [],
   "source": [
    "columns=list(x.columns)"
   ]
  },
  {
   "cell_type": "code",
   "execution_count": 14,
   "id": "a70d9ed3",
   "metadata": {},
   "outputs": [
    {
     "name": "stdout",
     "output_type": "stream",
     "text": [
      " \n",
      " \n",
      " \n",
      "  Feature     F-score     P-values    \n",
      "  -----------    -----------   ------------\n",
      "     Hours          141.91      0.000000\n",
      "     sHours           4.57      0.041403\n",
      "     hoursplayed      0.00      0.969907\n",
      "     income           0.16      0.692200\n",
      "     distance         0.00      0.955528\n",
      "     calories         0.40      0.530086\n"
     ]
    }
   ],
   "source": [
    "print(\" \")\n",
    "print(\" \")\n",
    "print(\" \")\n",
    "print(\"  Feature    \", \"F-score    \",\"P-values    \")\n",
    "print(\"  -----------    -----------   ------------\")\n",
    "for i in range(0,len(columns)):\n",
    "    f1=\"%4.2f\" % f_score[i]\n",
    "    p1=\"%2.6f\"  % p_value[i]\n",
    "    print(\"    \", columns[i].ljust(12), f1.rjust(8),\"    \", p1.rjust(8))"
   ]
  },
  {
   "cell_type": "code",
   "execution_count": 15,
   "id": "cc0a1735",
   "metadata": {},
   "outputs": [],
   "source": [
    "# ----------------------------------------------------------------\n",
    "# Implement various feature selection, Select Transforms\n",
    "# ----------------------------------------------------------------"
   ]
  },
  {
   "cell_type": "code",
   "execution_count": 18,
   "id": "3ed6098b",
   "metadata": {},
   "outputs": [],
   "source": [
    "from sklearn.feature_selection import SelectKBest,SelectPercentile,GenericUnivariateSelect,f_regression"
   ]
  },
  {
   "cell_type": "code",
   "execution_count": 19,
   "id": "3f875f67",
   "metadata": {},
   "outputs": [],
   "source": [
    "selectork=SelectKBest(score_func=f_regression,k=3) \n",
    "x_k=selectork.fit_transform(x,y)\n",
    "f_score=selectork.scores_\n",
    "p_score=selectork.pvalues_\n",
    "col=selectork.get_support(indices=True)\n",
    "selectedCOl=x.columns[col].to_list()"
   ]
  },
  {
   "cell_type": "code",
   "execution_count": 25,
   "id": "a5939a62",
   "metadata": {},
   "outputs": [],
   "source": [
    "#impliment percentile"
   ]
  },
  {
   "cell_type": "code",
   "execution_count": 28,
   "id": "bb1513c2",
   "metadata": {},
   "outputs": [],
   "source": [
    "selPercentile=SelectPercentile(score_func=f_regression,percentile=50)\n",
    "x_p=selPercentile.fit_transform(x,y)\n",
    "per_fscore=selPercentile.scores_\n",
    "per_pscore=selPercentile.pvalues_\n",
    "colper=selPercentile.get_support(indices=True)\n",
    "selctperCol=x.columns[colper].to_list()"
   ]
  },
  {
   "cell_type": "code",
   "execution_count": 35,
   "id": "ff3d3a21",
   "metadata": {},
   "outputs": [],
   "source": [
    "#impliment generic"
   ]
  },
  {
   "cell_type": "code",
   "execution_count": 37,
   "id": "c2d389d3",
   "metadata": {},
   "outputs": [],
   "source": [
    "gen=GenericUnivariateSelect(score_func=f_regression,mode='k_best',param=3)\n",
    "x_ge=gen.fit_transform(x,y)\n",
    "gen_fscore=gen.scores_\n",
    "gen_pscore=gen.pvalues_\n",
    "colgen=gen.get_support(indices=True)\n",
    "selGenCol=x.columns[colgen].to_list()"
   ]
  },
  {
   "cell_type": "code",
   "execution_count": 39,
   "id": "409c8efb",
   "metadata": {},
   "outputs": [],
   "source": [
    "# impliment generic percentile"
   ]
  },
  {
   "cell_type": "code",
   "execution_count": 40,
   "id": "4f4cc633",
   "metadata": {},
   "outputs": [],
   "source": []
  },
  {
   "cell_type": "code",
   "execution_count": 41,
   "id": "fdad40ae",
   "metadata": {},
   "outputs": [],
   "source": []
  },
  {
   "cell_type": "code",
   "execution_count": 42,
   "id": "0ed341de",
   "metadata": {},
   "outputs": [],
   "source": []
  },
  {
   "cell_type": "code",
   "execution_count": null,
   "id": "60445dee",
   "metadata": {},
   "outputs": [],
   "source": []
  },
  {
   "cell_type": "code",
   "execution_count": null,
   "id": "bbc39048",
   "metadata": {},
   "outputs": [],
   "source": []
  }
 ],
 "metadata": {
  "kernelspec": {
   "display_name": "Python 3 (ipykernel)",
   "language": "python",
   "name": "python3"
  },
  "language_info": {
   "codemirror_mode": {
    "name": "ipython",
    "version": 3
   },
   "file_extension": ".py",
   "mimetype": "text/x-python",
   "name": "python",
   "nbconvert_exporter": "python",
   "pygments_lexer": "ipython3",
   "version": "3.9.7"
  }
 },
 "nbformat": 4,
 "nbformat_minor": 5
}
